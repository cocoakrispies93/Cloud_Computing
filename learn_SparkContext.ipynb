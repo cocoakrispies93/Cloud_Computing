{
  "nbformat": 4,
  "nbformat_minor": 0,
  "metadata": {
    "colab": {
      "provenance": []
    },
    "kernelspec": {
      "name": "python3",
      "display_name": "Python 3"
    },
    "language_info": {
      "name": "python"
    }
  },
  "cells": [
    {
      "cell_type": "code",
      "execution_count": 1,
      "metadata": {
        "colab": {
          "base_uri": "https://localhost:8080/",
          "height": 198
        },
        "id": "OLWiMDhBdldt",
        "outputId": "6f435aad-1fe3-4e28-8e57-9f51caaec8db"
      },
      "outputs": [
        {
          "output_type": "execute_result",
          "data": {
            "text/plain": [
              "<SparkContext master=local[*] appName=pyspark-shell>"
            ],
            "text/html": [
              "\n",
              "        <div>\n",
              "            <p><b>SparkContext</b></p>\n",
              "\n",
              "            <p><a href=\"http://797facd28781:4040\">Spark UI</a></p>\n",
              "\n",
              "            <dl>\n",
              "              <dt>Version</dt>\n",
              "                <dd><code>v3.3.0</code></dd>\n",
              "              <dt>Master</dt>\n",
              "                <dd><code>local[*]</code></dd>\n",
              "              <dt>AppName</dt>\n",
              "                <dd><code>pyspark-shell</code></dd>\n",
              "            </dl>\n",
              "        </div>\n",
              "        "
            ]
          },
          "metadata": {},
          "execution_count": 1
        }
      ],
      "source": [
        "#Step 1: Install Dependencies\n",
        "!apt-get install openjdk-8-jdk-headless -qq > /dev/null\n",
        "!wget -q https://archive.apache.org/dist/spark/spark-3.3.0/spark-3.3.0-bin-hadoop3.tgz\n",
        "!tar xf spark-3.3.0-bin-hadoop3.tgz\n",
        "!pip install -q findspark\n",
        "\n",
        "#Step 2: Add environment variables\n",
        "import os\n",
        "os.environ[\"JAVA_HOME\"] = \"/usr/lib/jvm/java-8-openjdk-amd64\"\n",
        "os.environ[\"SPARK_HOME\"] = \"spark-3.3.0-bin-hadoop3\"\n",
        "\n",
        "#Step 3: Initialize Pyspark\n",
        "import findspark\n",
        "findspark.init()\n",
        "\n",
        "#creating spark context\n",
        "from pyspark.sql import SparkSession\n",
        "spark = SparkSession.builder.master(\"local[*]\").getOrCreate()\n",
        "sc = spark.sparkContext\n",
        "sc"
      ]
    },
    {
      "cell_type": "code",
      "source": [
        "final_output = {}"
      ],
      "metadata": {
        "id": "f65I7H4edscd"
      },
      "execution_count": 2,
      "outputs": []
    },
    {
      "cell_type": "code",
      "source": [
        "#mapping function\n",
        "def map(id,txt):\n",
        "\n",
        "    mapop = []   \n",
        "    doc_words = txt.split()   \n",
        "\n",
        "    for word in doc_words:\n",
        "        tmp = (word,1)\n",
        "        mapop.append(tmp)\n",
        "    return mapop"
      ],
      "metadata": {
        "id": "H1xxHFjXdzEC"
      },
      "execution_count": 3,
      "outputs": []
    },
    {
      "cell_type": "code",
      "source": [
        "#reducing function\n",
        "def reduce(key,val):\n",
        "\n",
        "\n",
        "    if key not in final_output:\n",
        "        final_output[key] = 0\n",
        "    final_output[key] += val"
      ],
      "metadata": {
        "id": "yYuikM8wd21e"
      },
      "execution_count": 4,
      "outputs": []
    },
    {
      "cell_type": "code",
      "source": [
        "def wordcount_search(doc_num, word):\n",
        "\n",
        "    count = []\n",
        "    file_names = []\n",
        "\n",
        "    \n",
        "    while(doc_num > 0):\n",
        "\n",
        "        print(\"\\n\\n\")\n",
        "\n",
        "        try:\n",
        "            f = input(\"\\nPlease enter a file name: \")\n",
        "            doc = open(f, \"r\")\n",
        "            file = doc.read()\n",
        "            \n",
        "        except FileNotFoundError:\n",
        "            print(\"\\nFile not found in your directory, do you have the file in your local folder?\")\n",
        "            continue\n",
        "\n",
        "\n",
        "        file_names.append(f)\n",
        "\n",
        "        ###MAPPING\n",
        "        map_output = map(0,file)  \n",
        "\n",
        "        ##REDUCING\n",
        "        for k,v in map_output:\n",
        "            reduce(k,v)\n",
        "\n",
        "\n",
        "        #print(\"\\n\\n====================================================\")\n",
        "        #print(\"The word count of -\" + word + \"- in file \" + str(i + 1) + \": \" + str(final_output[word]))\n",
        "        #print(\"====================================================\\n\")\n",
        "        #print(final_output)\n",
        "\n",
        "        if word in final_output:\n",
        "            count.append(final_output[word])\n",
        "            print(\"\\n\\n*************************************************\")\n",
        "            print(f\"Word was found in final output, count:\\n'{count}'\")\n",
        "            print(\"*************************************************\\n\\n\")\n",
        "        else:\n",
        "            print(f\"\\nWord not found, key: '{word}' does not exist in this file.\")\n",
        "\n",
        "        \n",
        "\n",
        "\n",
        "        doc.close()\n",
        "        doc_num -= 1\n",
        "\n",
        "    print(\"\\n\\n===========================================================\")\n",
        "    \n",
        "    \n",
        "\n",
        "    i = 0\n",
        "    if (len(count) != 0) :\n",
        "\n",
        "        print(f\"The word count of '{word}' in all files is: {sum(count)}\\n\")\n",
        "\n",
        "        for counts in count:\n",
        "            #print(\"\\n\\n*************************************************\")\n",
        "            #print(f\"Iterator i: '{i}' and count = '{count[i]}' and counts = '{counts}'\")\n",
        "            #print(\"*************************************************\\n\\n\")\n",
        "            print(f\"\\tThe word count of '{word}' in file {file_names[i]} is: {counts}\")\n",
        "            i += 1\n",
        "    else:\n",
        "        print(f\"The word: '{word}' was not in any of the files.\")\n",
        "    print(\"===========================================================\\n\\n\")"
      ],
      "metadata": {
        "id": "QXfRRNS6d8E1"
      },
      "execution_count": 5,
      "outputs": []
    },
    {
      "cell_type": "code",
      "source": [
        "if __name__ == '__main__':\n",
        "\n",
        "    print(\"\\n\\n====================================================\")\n",
        "    print(\"  Welcome to the file search word count program!\")\n",
        "    print(\"====================================================\\n\\n\")\n",
        "\n",
        "    while(True):\n",
        "\n",
        "        \n",
        "        try:\n",
        "            doc_num = int(input(\"\\nHow many files would you like to search: \"))\n",
        "\n",
        "            print(\"\\n\\n========================================================================\")\n",
        "            word = input(\"What word would you like to count in the selected files? \")\n",
        "            print(\"========================================================================\\n\\n\")\n",
        "\n",
        "            split_length = len(word.split(\" \"))\n",
        "            print(f\"Length of word is: {split_length}\")\n",
        "\n",
        "            if len(word.split(\" \")) > 1:\n",
        "                print(\"\\nWord must be a single word, do not enter more than one!\")\n",
        "                continue\n",
        "\n",
        "        except ValueError:\n",
        "            print(\"Invalid Input!\")\n",
        "            continue\n",
        "\n",
        "\n",
        "\n",
        "        wordcount_search(doc_num, word)\n",
        "\n",
        "        print(\"\\n\\n====================================================\")\n",
        "        response = (input(\"     End of the word count file search program, \\nwould you like to continue? (Press Q to exit)\\n\\n\\tContinue? \"))\n",
        "        response = response.upper()\n",
        "        print(\"====================================================\\n\\n\\n\")\n",
        "\n",
        "        if(response == 'Q'):\n",
        "            break\n",
        "\n",
        "    print(\"\\n\\n===================================================================\")\n",
        "    print(\"  Thank you for using the file search word count program, bye!\")\n",
        "    print(\"===================================================================\\n\\n\\n\")"
      ],
      "metadata": {
        "colab": {
          "base_uri": "https://localhost:8080/"
        },
        "id": "VLErc9_DeH72",
        "outputId": "3ff69155-dca2-4e9a-f8e8-c1ca639f7410"
      },
      "execution_count": 7,
      "outputs": [
        {
          "output_type": "stream",
          "name": "stdout",
          "text": [
            "\n",
            "\n",
            "====================================================\n",
            "  Welcome to the file search word count program!\n",
            "====================================================\n",
            "\n",
            "\n",
            "\n",
            "How many files would you like to search: 1\n",
            "\n",
            "\n",
            "========================================================================\n",
            "What word would you like to count in the selected files? before\n",
            "========================================================================\n",
            "\n",
            "\n",
            "Length of word is: 1\n",
            "\n",
            "\n",
            "\n",
            "\n",
            "Please enter a file name: README.md\n",
            "\n",
            "File not found in your directory, do you have the file in your local folder?\n",
            "\n",
            "\n",
            "\n",
            "\n",
            "Please enter a file name: sample_data/README.md\n",
            "\n",
            "Word not found, key: 'before' does not exist in this file.\n",
            "\n",
            "\n",
            "===========================================================\n",
            "The word: 'before' was not in any of the files.\n",
            "===========================================================\n",
            "\n",
            "\n",
            "\n",
            "\n",
            "====================================================\n",
            "     End of the word count file search program, \n",
            "would you like to continue? (Press Q to exit)\n",
            "\n",
            "\tContinue? q\n",
            "====================================================\n",
            "\n",
            "\n",
            "\n",
            "\n",
            "\n",
            "===================================================================\n",
            "  Thank you for using the file search word count program, bye!\n",
            "===================================================================\n",
            "\n",
            "\n",
            "\n"
          ]
        }
      ]
    }
  ]
}