

final_output = {}



#mapping function
def map(id,txt):

    mapop = []   
    doc_words = txt.split()   

    for word in doc_words:
        tmp = (word,1)
        mapop.append(tmp)
    return mapop


#reducing function
def reduce(key,val):


    if key not in final_output:
        final_output[key] = 0
    final_output[key] += val


def wordcount_search(doc_num, word):

    count = []
    file_names = []

    
    while(doc_num > 0):

        print("\n\n")

        try:
            f = input("\nPlease enter a file name: ")
            doc = open(f, "r")
            file = doc.read()
            
        except FileNotFoundError:
            print("\nFile not found in your directory, do you have the file in your local folder?")
            continue


        file_names.append(f)

        ###MAPPING
        map_output = map(0,file)  

        ##REDUCING
        for k,v in map_output:
            reduce(k,v)


        #print("\n\n====================================================")
        #print("The word count of -" + word + "- in file " + str(i + 1) + ": " + str(final_output[word]))
        #print("====================================================\n")
        #print(final_output)

        if word in final_output:
            count.append(final_output[word])
            print("\n\n*************************************************")
            print(f"Word was found in final output, count:\n'{count}'")
            print("*************************************************\n\n")
        else:
            print(f"\nWord not found, key: '{word}' does not exist in this file.")

        


        doc.close()
        doc_num -= 1

    print("\n\n===========================================================")
    
    

    i = 0
    if (len(count) != 0) :

        print(f"The word count of '{word}' in all files is: {sum(count)}\n")

        for counts in count:
            #print("\n\n*************************************************")
            #print(f"Iterator i: '{i}' and count = '{count[i]}' and counts = '{counts}'")
            #print("*************************************************\n\n")
            print(f"\tThe word count of '{word}' in file {file_names[i]} is: {counts}")
            i += 1
    else:
        print(f"The word: '{word}' was not in any of the files.")
    print("===========================================================\n\n")

    




if __name__ == '__main__':

    print("\n\n====================================================")
    print("  Welcome to the file search word count program!")
    print("====================================================\n\n")

    while(True):

        
        try:
            doc_num = int(input("\nHow many files would you like to search: "))

            print("\n\n========================================================================")
            word = input("What word would you like to count in the selected files? ")
            print("========================================================================\n\n")

            split_length = len(word.split(" "))
            print(f"Length of word is: {split_length}")

            if len(word.split(" ")) > 1:
                print("\nWord must be a single word, do not enter more than one!")
                continue

        except ValueError:
            print("Invalid Input!")
            continue



        wordcount_search(doc_num, word)

        print("\n\n====================================================")
        response = (input("     End of the word count file search program, \nwould you like to continue? (Press Q to exit)\n\n\tContinue? "))
        response = response.upper()
        print("====================================================\n\n\n")

        if(response == 'Q'):
            break

    print("\n\n===================================================================")
    print("  Thank you for using the file search word count program, bye!")
    print("===================================================================\n\n\n")
