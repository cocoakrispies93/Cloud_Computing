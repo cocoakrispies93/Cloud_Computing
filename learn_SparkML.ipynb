{
  "nbformat": 4,
  "nbformat_minor": 0,
  "metadata": {
    "colab": {
      "provenance": [],
      "collapsed_sections": [
        "nkYLwik4e73I"
      ]
    },
    "kernelspec": {
      "name": "python3",
      "display_name": "Python 3"
    },
    "language_info": {
      "name": "python"
    }
  },
  "cells": [
    {
      "cell_type": "markdown",
      "metadata": {
        "id": "jOvjmJaauIB7"
      },
      "source": [
        "# **Homework 5**"
      ]
    },
    {
      "cell_type": "markdown",
      "metadata": {
        "id": "mZxOiGtYuIB9"
      },
      "source": [
        "Using the provided New York City (NYC) dataset. Apply Linear Regression to predict housing prices. For each house observation, we have the following information:\n",
        "\n",
        "**crim** — per capita crime rate by town.\n",
        "\n",
        "**zn** — proportion of residential land zoned for lots over 25,000 sq.ft.\n",
        "\n",
        "**indus** — proportion of non-retail business acres per town.\n",
        "\n",
        "**chas** — charles river dummy variable (= 1 if tract bounds river; 0 otherwise).\n",
        "\n",
        "**nox** — nitrogen oxides concentration (parts per 10 million).\n",
        "\n",
        "**rm** — average number of rooms per dwelling.\n",
        "\n",
        "**age** — proportion of owner-occupied units built prior to 1940.\n",
        "\n",
        "**dis** — weighted mean of distances to five employment centres.\n",
        "\n",
        "**rad** — index of accessibility to radial highways.\n",
        "\n",
        "**tax** — full-value property-tax rate per 10,000 USD.\n",
        "\n",
        "**ptratio** — pupil-teacher ratio by town.\n",
        "\n",
        "**black** — 1000(bk — 0.63)² where bk is the \n",
        "proportion of blacks by town.\n",
        "\n",
        "**lstat** — lower status of the population (percent).\n",
        "\n",
        "**medv** — median value of owner-occupied homes in \n",
        "$1000s. this is the target variable.\n",
        "\n",
        "The input data set contains data about details of various houses. Based on the information provided, the goal is to come up with a model to predict median value of a given house in the area.\n",
        "\n",
        "**Hint: You should use medv as the independent variable, and remember to calculate the MSERMSE**\n"
      ]
    },
    {
      "cell_type": "code",
      "source": [
        "#Step 1: Install Dependencies\n",
        "!apt-get install openjdk-8-jdk-headless -qq > /dev/null\n",
        "!wget -q https://archive.apache.org/dist/spark/spark-3.3.0/spark-3.3.0-bin-hadoop3.tgz\n",
        "!tar xf spark-3.3.0-bin-hadoop3.tgz\n",
        "!pip install -q findspark\n",
        "\n",
        "#Step 2: Add environment variables\n",
        "import os\n",
        "os.environ[\"JAVA_HOME\"] = \"/usr/lib/jvm/java-8-openjdk-amd64\"\n",
        "os.environ[\"SPARK_HOME\"] = \"spark-3.3.0-bin-hadoop3\"\n",
        "\n",
        "#Step 3: Initialize Pyspark\n",
        "import findspark\n",
        "findspark.init()"
      ],
      "metadata": {
        "id": "APfNIPH1R-tg"
      },
      "execution_count": 1,
      "outputs": []
    },
    {
      "cell_type": "markdown",
      "source": [],
      "metadata": {
        "id": "h__-bYgJ-6Ea"
      }
    },
    {
      "cell_type": "code",
      "source": [
        "#creating spark context\n",
        "from pyspark.sql import SparkSession\n",
        "spark = SparkSession.builder.master(\"local[*]\").getOrCreate()\n",
        "sc = spark.sparkContext\n",
        "sc"
      ],
      "metadata": {
        "colab": {
          "base_uri": "https://localhost:8080/",
          "height": 198
        },
        "id": "xycglVgMSGbr",
        "outputId": "2475d2fb-8ac9-43ab-d343-f6398fa61948"
      },
      "execution_count": 2,
      "outputs": [
        {
          "output_type": "execute_result",
          "data": {
            "text/plain": [
              "<SparkContext master=local[*] appName=pyspark-shell>"
            ],
            "text/html": [
              "\n",
              "        <div>\n",
              "            <p><b>SparkContext</b></p>\n",
              "\n",
              "            <p><a href=\"http://59d6c69145d9:4040\">Spark UI</a></p>\n",
              "\n",
              "            <dl>\n",
              "              <dt>Version</dt>\n",
              "                <dd><code>v3.3.0</code></dd>\n",
              "              <dt>Master</dt>\n",
              "                <dd><code>local[*]</code></dd>\n",
              "              <dt>AppName</dt>\n",
              "                <dd><code>pyspark-shell</code></dd>\n",
              "            </dl>\n",
              "        </div>\n",
              "        "
            ]
          },
          "metadata": {},
          "execution_count": 2
        }
      ]
    },
    {
      "cell_type": "code",
      "source": [
        "df = spark.read.csv('nyc.csv',inferSchema=True,header=True)\n",
        "df.show()"
      ],
      "metadata": {
        "colab": {
          "base_uri": "https://localhost:8080/"
        },
        "id": "18qB_BKBSI9Q",
        "outputId": "f6761319-df67-4006-89d4-a498ab9e62e4"
      },
      "execution_count": 33,
      "outputs": [
        {
          "output_type": "stream",
          "name": "stdout",
          "text": [
            "+---+-------+----+-----+----+-----+-----+-----+------+---+---+-------+------+-----+----+\n",
            "|_c0|   crim|  zn|indus|chas|  nox|   rm|  age|   dis|rad|tax|ptratio| black|lstat|medv|\n",
            "+---+-------+----+-----+----+-----+-----+-----+------+---+---+-------+------+-----+----+\n",
            "|  1|0.00632|18.0| 2.31|   0|0.538|6.575| 65.2|  4.09|  1|296|   15.3| 396.9| 4.98|24.0|\n",
            "|  2|0.02731| 0.0| 7.07|   0|0.469|6.421| 78.9|4.9671|  2|242|   17.8| 396.9| 9.14|21.6|\n",
            "|  3|0.02729| 0.0| 7.07|   0|0.469|7.185| 61.1|4.9671|  2|242|   17.8|392.83| 4.03|34.7|\n",
            "|  4|0.03237| 0.0| 2.18|   0|0.458|6.998| 45.8|6.0622|  3|222|   18.7|394.63| 2.94|33.4|\n",
            "|  5|0.06905| 0.0| 2.18|   0|0.458|7.147| 54.2|6.0622|  3|222|   18.7| 396.9| 5.33|36.2|\n",
            "|  6|0.02985| 0.0| 2.18|   0|0.458| 6.43| 58.7|6.0622|  3|222|   18.7|394.12| 5.21|28.7|\n",
            "|  7|0.08829|12.5| 7.87|   0|0.524|6.012| 66.6|5.5605|  5|311|   15.2| 395.6|12.43|22.9|\n",
            "|  8|0.14455|12.5| 7.87|   0|0.524|6.172| 96.1|5.9505|  5|311|   15.2| 396.9|19.15|27.1|\n",
            "|  9|0.21124|12.5| 7.87|   0|0.524|5.631|100.0|6.0821|  5|311|   15.2|386.63|29.93|16.5|\n",
            "| 10|0.17004|12.5| 7.87|   0|0.524|6.004| 85.9|6.5921|  5|311|   15.2|386.71| 17.1|18.9|\n",
            "| 11|0.22489|12.5| 7.87|   0|0.524|6.377| 94.3|6.3467|  5|311|   15.2|392.52|20.45|15.0|\n",
            "| 12|0.11747|12.5| 7.87|   0|0.524|6.009| 82.9|6.2267|  5|311|   15.2| 396.9|13.27|18.9|\n",
            "| 13|0.09378|12.5| 7.87|   0|0.524|5.889| 39.0|5.4509|  5|311|   15.2| 390.5|15.71|21.7|\n",
            "| 14|0.62976| 0.0| 8.14|   0|0.538|5.949| 61.8|4.7075|  4|307|   21.0| 396.9| 8.26|20.4|\n",
            "| 15|0.63796| 0.0| 8.14|   0|0.538|6.096| 84.5|4.4619|  4|307|   21.0|380.02|10.26|18.2|\n",
            "| 16|0.62739| 0.0| 8.14|   0|0.538|5.834| 56.5|4.4986|  4|307|   21.0|395.62| 8.47|19.9|\n",
            "| 17|1.05393| 0.0| 8.14|   0|0.538|5.935| 29.3|4.4986|  4|307|   21.0|386.85| 6.58|23.1|\n",
            "| 18| 0.7842| 0.0| 8.14|   0|0.538| 5.99| 81.7|4.2579|  4|307|   21.0|386.75|14.67|17.5|\n",
            "| 19|0.80271| 0.0| 8.14|   0|0.538|5.456| 36.6|3.7965|  4|307|   21.0|288.99|11.69|20.2|\n",
            "| 20| 0.7258| 0.0| 8.14|   0|0.538|5.727| 69.5|3.7965|  4|307|   21.0|390.95|11.28|18.2|\n",
            "+---+-------+----+-----+----+-----+-----+-----+------+---+---+-------+------+-----+----+\n",
            "only showing top 20 rows\n",
            "\n"
          ]
        }
      ]
    },
    {
      "cell_type": "code",
      "source": [
        "from pyspark.ml.linalg import Vectors\n",
        "from pyspark.ml.feature import VectorAssembler\n",
        "\n",
        "assembler = VectorAssembler(\n",
        "    inputCols=[\"_c0\", \"crim\", \"zn\", \"indus\", \"chas\", \"nox\", \"rm\", \"age\", \"dis\", \"rad\", \"tax\", \"ptratio\", \"black\", \"lstat\"],\n",
        "    outputCol=\"features\")\n",
        "\n",
        "output = assembler.transform(df)"
      ],
      "metadata": {
        "id": "j9uuAy55UuXK"
      },
      "execution_count": 48,
      "outputs": []
    },
    {
      "cell_type": "code",
      "source": [
        "# Splitting 70:30\n",
        "training,testing = output.select(\"features\", \"medv\").randomSplit([0.7,0.3])"
      ],
      "metadata": {
        "id": "nJlBywNqw28O"
      },
      "execution_count": 60,
      "outputs": []
    },
    {
      "cell_type": "code",
      "source": [
        "print(\"Training: assembled columns '_c0', 'crim', 'zn', 'indus', 'chas', 'nox', 'rm', 'age', 'dis', 'rad', 'tax', 'ptratio', 'black', 'lstat' to column 'medv'\")\n",
        "#training = output.select(\"features\", \"medv\")\n",
        "training.show(5)\n",
        "training.describe().show()"
      ],
      "metadata": {
        "colab": {
          "base_uri": "https://localhost:8080/"
        },
        "id": "MtnKLRd5bYL5",
        "outputId": "4ee7e04a-9efd-4994-8f9d-778466d384c6"
      },
      "execution_count": 65,
      "outputs": [
        {
          "output_type": "stream",
          "name": "stdout",
          "text": [
            "Training: assembled columns '_c0', 'crim', 'zn', 'indus', 'chas', 'nox', 'rm', 'age', 'dis', 'rad', 'tax', 'ptratio', 'black', 'lstat' to column 'medv'\n",
            "+--------------------+----+\n",
            "|            features|medv|\n",
            "+--------------------+----+\n",
            "|[1.0,0.00632,18.0...|24.0|\n",
            "|[4.0,0.03237,0.0,...|33.4|\n",
            "|[5.0,0.06905,0.0,...|36.2|\n",
            "|[6.0,0.02985,0.0,...|28.7|\n",
            "|[7.0,0.08829,12.5...|22.9|\n",
            "+--------------------+----+\n",
            "only showing top 5 rows\n",
            "\n",
            "+-------+------------------+\n",
            "|summary|              medv|\n",
            "+-------+------------------+\n",
            "|  count|               348|\n",
            "|   mean|23.209195402298857|\n",
            "| stddev| 9.484501322947517|\n",
            "|    min|               5.0|\n",
            "|    max|              50.0|\n",
            "+-------+------------------+\n",
            "\n"
          ]
        }
      ]
    },
    {
      "cell_type": "code",
      "source": [
        "print(\"Testing: assembled columns '_c0', 'crim', 'zn', 'indus', 'chas', 'nox', 'rm', 'age', 'dis', 'rad', 'tax', 'ptratio', 'black', 'lstat' to column 'medv'\")\n",
        "#training = output.select(\"features\", \"medv\")\n",
        "testing.show(5)\n",
        "testing.describe().show()"
      ],
      "metadata": {
        "colab": {
          "base_uri": "https://localhost:8080/"
        },
        "id": "jbY_eAtkxTVd",
        "outputId": "6b1438fc-a9eb-4a93-ff5a-1e7cde41653b"
      },
      "execution_count": 67,
      "outputs": [
        {
          "output_type": "stream",
          "name": "stdout",
          "text": [
            "Testing: assembled columns '_c0', 'crim', 'zn', 'indus', 'chas', 'nox', 'rm', 'age', 'dis', 'rad', 'tax', 'ptratio', 'black', 'lstat' to column 'medv'\n",
            "+--------------------+----+\n",
            "|            features|medv|\n",
            "+--------------------+----+\n",
            "|[2.0,0.02731,0.0,...|21.6|\n",
            "|[3.0,0.02729,0.0,...|34.7|\n",
            "|[8.0,0.14455,12.5...|27.1|\n",
            "|[13.0,0.09378,12....|21.7|\n",
            "|[14.0,0.62976,0.0...|20.4|\n",
            "+--------------------+----+\n",
            "only showing top 5 rows\n",
            "\n",
            "+-------+------------------+\n",
            "|summary|              medv|\n",
            "+-------+------------------+\n",
            "|  count|               158|\n",
            "|   mean|21.043037974683546|\n",
            "| stddev| 8.367272969968337|\n",
            "|    min|               5.0|\n",
            "|    max|              50.0|\n",
            "+-------+------------------+\n",
            "\n"
          ]
        }
      ]
    },
    {
      "cell_type": "code",
      "source": [
        "from pyspark.ml.regression import LinearRegression\n",
        "\n",
        "# These are the default values for the featuresCol, labelCol, predictionCol\n",
        "lr = LinearRegression(featuresCol='features', labelCol='medv', predictionCol='prediction')"
      ],
      "metadata": {
        "id": "pEAqJBnnphTI"
      },
      "execution_count": 45,
      "outputs": []
    },
    {
      "cell_type": "code",
      "source": [
        "# Fit the model\n",
        "lrTrainModel = lr.fit(training)"
      ],
      "metadata": {
        "id": "RY__xmqEr4cQ"
      },
      "execution_count": 69,
      "outputs": []
    },
    {
      "cell_type": "code",
      "source": [
        "# Print the coefficients and intercept for linear regression\n",
        "print(\"Coefficients: {}\".format(str(lrTrainModel.coefficients))) # For each feature...\n",
        "print('\\n')\n",
        "print(\"Intercept:{}\".format(str(lrTrainModel.intercept)))"
      ],
      "metadata": {
        "colab": {
          "base_uri": "https://localhost:8080/"
        },
        "id": "YkM229DnsExh",
        "outputId": "c0056139-b661-413d-80f5-d67e4015598d"
      },
      "execution_count": 53,
      "outputs": [
        {
          "output_type": "stream",
          "name": "stdout",
          "text": [
            "Coefficients: [-0.003380495291687249,-0.15433829796305748,0.03787705411693594,0.01218177767061619,3.0944802157043014,-14.974197553555221,4.238395727490869,-0.0074360837076530555,-1.3592176193231333,0.3201799140143225,-0.008831143716188709,-0.958099411612571,0.008676192750111111,-0.5208040354058792]\n",
            "\n",
            "\n",
            "Intercept:32.19803900246931\n"
          ]
        }
      ]
    },
    {
      "cell_type": "code",
      "source": [
        "# Summarize the model over the training set and print out some metrics\n",
        "trainingSummary = lrTrainModel.summary\n",
        "\n",
        "trainingSummary.residuals.show()\n",
        "print(\"Train RMSE: {}\".format(trainingSummary.rootMeanSquaredError))\n",
        "print(\"Train MSE: {}\".format(trainingSummary.meanSquaredError))\n",
        "print(\"Train r2: {}\".format(trainingSummary.r2))"
      ],
      "metadata": {
        "colab": {
          "base_uri": "https://localhost:8080/"
        },
        "id": "Bb-YqYQesY6Z",
        "outputId": "0f1c9810-d0c7-4a88-d9b5-36ac045a4939"
      },
      "execution_count": 56,
      "outputs": [
        {
          "output_type": "stream",
          "name": "stdout",
          "text": [
            "+--------------------+\n",
            "|           residuals|\n",
            "+--------------------+\n",
            "|  -6.568128055875576|\n",
            "| -3.6594372141441056|\n",
            "|  3.4474470521512863|\n",
            "|  3.9959445775218967|\n",
            "|   7.460955028408318|\n",
            "|   2.992300907311847|\n",
            "|   7.110227527859998|\n",
            "|   4.728118699197189|\n",
            "| -0.5500388138418408|\n",
            "|  -4.595918531167037|\n",
            "|  -3.174639595171623|\n",
            "| 0.07905648929442322|\n",
            "|  0.3560829035769473|\n",
            "| -1.4392777417376301|\n",
            "|  0.1470161908838108|\n",
            "|  1.8776592819652862|\n",
            "| 0.28295771415391613|\n",
            "|   3.586176522791515|\n",
            "|-0.42442549589911494|\n",
            "| -0.2509293313240182|\n",
            "+--------------------+\n",
            "only showing top 20 rows\n",
            "\n",
            "Train RMSE: 4.568607494111862\n",
            "Train MSE: 20.872174435255065\n",
            "Train r2: 0.7463540707642433\n"
          ]
        }
      ]
    },
    {
      "cell_type": "code",
      "source": [
        "test_results = lrTrainModel.evaluate(testing)"
      ],
      "metadata": {
        "id": "EXgI21WOvrIW"
      },
      "execution_count": 55,
      "outputs": []
    },
    {
      "cell_type": "code",
      "source": [
        "unlabeled_data = testing.select('features')\n",
        "predictions = lrTrainModel.transform(unlabeled_data)\n",
        "predictions.show()"
      ],
      "metadata": {
        "colab": {
          "base_uri": "https://localhost:8080/"
        },
        "id": "EHl54AME7JPP",
        "outputId": "77877140-6adc-4eb4-ab1d-2c72ad3095b7"
      },
      "execution_count": 73,
      "outputs": [
        {
          "output_type": "stream",
          "name": "stdout",
          "text": [
            "+--------------------+------------------+\n",
            "|            features|        prediction|\n",
            "+--------------------+------------------+\n",
            "|[2.0,0.02731,0.0,...|25.298532322969642|\n",
            "|[3.0,0.02729,0.0,...| 31.91133084620289|\n",
            "|[8.0,0.14455,12.5...|  19.1188993193866|\n",
            "|[13.0,0.09378,12....|21.246849749828947|\n",
            "|[14.0,0.62976,0.0...| 20.16687870223637|\n",
            "|[15.0,0.63796,0.0...|19.699439023758103|\n",
            "|[27.0,0.67191,0.0...| 15.49869186928133|\n",
            "|[28.0,0.95577,0.0...|15.239884249994871|\n",
            "|[32.0,1.35472,0.0...|18.168623223627215|\n",
            "|[35.0,1.61282,0.0...|14.340514398144315|\n",
            "|[36.0,0.06417,0.0...| 23.98757028116823|\n",
            "|[37.0,0.09744,0.0...| 22.61826223851545|\n",
            "|[47.0,0.18836,0.0...|20.795948327784387|\n",
            "|[48.0,0.22927,0.0...| 17.72390814190196|\n",
            "|[49.0,0.25387,0.0...| 8.109208006807421|\n",
            "|[50.0,0.21977,0.0...| 16.81493533273853|\n",
            "|[52.0,0.04337,21....| 23.69170455365076|\n",
            "|[54.0,0.04981,21....|24.409303599692123|\n",
            "|[57.0,0.02055,85....| 24.61510249657352|\n",
            "|[60.0,0.10328,25....| 21.24484698293001|\n",
            "+--------------------+------------------+\n",
            "only showing top 20 rows\n",
            "\n"
          ]
        }
      ]
    },
    {
      "cell_type": "code",
      "source": [
        "test_results.residuals.show(5)\n",
        "\n",
        "print(\"Test RMSE: {}\".format(test_results.rootMeanSquaredError))\n",
        "print(\"Test MSE: {}\".format(test_results.meanSquaredError))\n",
        "print(\"Test r2: {}\".format(test_results.r2))"
      ],
      "metadata": {
        "colab": {
          "base_uri": "https://localhost:8080/"
        },
        "id": "SMJl1R2U7_AI",
        "outputId": "0da7689b-5568-4d44-86a2-4812476cf42b"
      },
      "execution_count": 75,
      "outputs": [
        {
          "output_type": "stream",
          "name": "stdout",
          "text": [
            "+-------------------+\n",
            "|          residuals|\n",
            "+-------------------+\n",
            "|-0.6616761319407019|\n",
            "|  1.137533385260019|\n",
            "| 1.7472328953068086|\n",
            "|-0.8615770581114504|\n",
            "| 0.6456943483903608|\n",
            "+-------------------+\n",
            "only showing top 5 rows\n",
            "\n",
            "Test RMSE: 5.007847507799957\n",
            "Test MSE: 25.07853666137824\n",
            "Test r2: 0.720618033883305\n"
          ]
        }
      ]
    }
  ]
}